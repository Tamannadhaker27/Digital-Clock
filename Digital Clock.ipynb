{
 "cells": [
  {
   "cell_type": "code",
   "execution_count": 4,
   "id": "1de588d8-9046-457d-9d06-2824c7d3a062",
   "metadata": {},
   "outputs": [],
   "source": [
    "import tkinter as tk\n",
    "from time import strftime    #strftime (from time) formats the current time into a readable string.\n",
    "\n",
    "root = tk.Tk()\n",
    "root.title(\"Digital Clock\")\n",
    "\n",
    "def time():\n",
    "    string=strftime('%H:%M:%S %p \\n %D')\n",
    "    label.config(text=string)\n",
    "    label.after(1000, time) #Calls time() every 1000 milliseconds (1 second) to update the clock continuously.\n",
    "    \n",
    "label = tk.Label (root, font=('calibri', 50, 'bold'), background= 'yellow', foreground='black')\n",
    "label.pack(anchor='center')\n",
    "\n",
    "time()\n",
    "\n",
    "root.mainloop()"
   ]
  },
  {
   "cell_type": "code",
   "execution_count": null,
   "id": "ee494d1b-9438-46b2-9338-15952f331e27",
   "metadata": {},
   "outputs": [],
   "source": []
  }
 ],
 "metadata": {
  "kernelspec": {
   "display_name": "Python 3 (ipykernel)",
   "language": "python",
   "name": "python3"
  },
  "language_info": {
   "codemirror_mode": {
    "name": "ipython",
    "version": 3
   },
   "file_extension": ".py",
   "mimetype": "text/x-python",
   "name": "python",
   "nbconvert_exporter": "python",
   "pygments_lexer": "ipython3",
   "version": "3.11.7"
  }
 },
 "nbformat": 4,
 "nbformat_minor": 5
}
